{
 "cells": [
  {
   "cell_type": "code",
   "execution_count": 2,
   "metadata": {},
   "outputs": [],
   "source": [
    "import cv2\n",
    "import numpy as np\n",
    "import glob\n",
    "import os\n",
    "\n",
    "for s in ['Set_1','Set_2','Set_3','Set_4','Set_5','Set_6']:\n",
    "    for ID in glob.glob(s + '/*'):\n",
    "        for Camera in glob.glob(ID + '/*'):\n",
    "            for Seq in glob.glob(Camera + '/*'):\n",
    "                img_array = []\n",
    "                name_list = glob.glob(Seq + '/*')\n",
    "                for i in range(len(name_list)):\n",
    "                    name_list[i] = str(name_list[i])\n",
    "                name_list.sort()\n",
    "                for filename in name_list:\n",
    "                    img = cv2.imread(filename)\n",
    "                    height, width, layers = img.shape\n",
    "                    size = (width,height)\n",
    "                    img_array.append(img)\n",
    "                \n",
    "                if not os.path.exists('Video_' + Camera):\n",
    "                    os.makedirs('Video_' + Camera)\n",
    "                out = cv2.VideoWriter('Video_' + Seq + '.avi',cv2.VideoWriter_fourcc(*'HFYU'), 15, size)\n",
    " \n",
    "                for i in range(len(img_array)):\n",
    "                    out.write(img_array[i])\n",
    "                out.release()"
   ]
  },
  {
   "cell_type": "code",
   "execution_count": null,
   "metadata": {},
   "outputs": [],
   "source": []
  }
 ],
 "metadata": {
  "kernelspec": {
   "display_name": "Python [conda env:retail_analytics]",
   "language": "python",
   "name": "conda-env-retail_analytics-py"
  },
  "language_info": {
   "codemirror_mode": {
    "name": "ipython",
    "version": 3
   },
   "file_extension": ".py",
   "mimetype": "text/x-python",
   "name": "python",
   "nbconvert_exporter": "python",
   "pygments_lexer": "ipython3",
   "version": "3.7.5"
  }
 },
 "nbformat": 4,
 "nbformat_minor": 2
}
