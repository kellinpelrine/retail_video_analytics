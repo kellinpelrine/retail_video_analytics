{
 "cells": [
  {
   "cell_type": "code",
   "execution_count": 3,
   "metadata": {},
   "outputs": [],
   "source": [
    "# this file cleans the file path data\n",
    "\n",
    "import pandas as pd\n",
    "import re\n",
    "\n",
    "df = pd.read_csv('Videos.csv')\n",
    "\n",
    "check_paths = re.compile(r'Set_\\d\\\\ID_\\d*\\\\Camera_\\d\\\\Seq_\\d')\n",
    "\n",
    "for i, _ in df.iterrows():\n",
    "    path = df.FilePathRelative[i]\n",
    "    if check_paths.match(path) is None:\n",
    "        path = path.replace('Id','ID')\n",
    "        path = path.replace('seq','Seq')\n",
    "        df.at[i,'FilePathRelative'] = path\n",
    "    assert check_paths.match(df.FilePathRelative[i]) is not None\n",
    "\n",
    "df.to_csv('Videos.csv',index=False)"
   ]
  },
  {
   "cell_type": "code",
   "execution_count": null,
   "metadata": {},
   "outputs": [],
   "source": []
  }
 ],
 "metadata": {
  "kernelspec": {
   "display_name": "Python [conda env:retail_analytics]",
   "language": "python",
   "name": "conda-env-retail_analytics-py"
  },
  "language_info": {
   "codemirror_mode": {
    "name": "ipython",
    "version": 3
   },
   "file_extension": ".py",
   "mimetype": "text/x-python",
   "name": "python",
   "nbconvert_exporter": "python",
   "pygments_lexer": "ipython3",
   "version": "3.7.5"
  }
 },
 "nbformat": 4,
 "nbformat_minor": 2
}
