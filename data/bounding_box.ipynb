{
 "cells": [
  {
   "cell_type": "code",
   "execution_count": 2,
   "metadata": {},
   "outputs": [],
   "source": [
    "import pandas as pd\n",
    "import random\n",
    "\n",
    "df_Videos = pd.read_csv('Videos.csv')\n",
    "df_PersonVideo = pd.read_csv('PersonVideo.csv')\n",
    "\n",
    "df = pd.merge(df_Videos,df_PersonVideo, left_on='IdVideo', right_on='IdVideo')\n",
    "df = df.set_index('IdVideo')\n",
    "\n",
    "valid_id_list = df.index.to_list()\n",
    "idlist = [random.choice(valid_id_list) for i in range(20)]\n",
    "\n",
    "idlist.append(425) # this one has the person partially enter the picture before the given frame\n",
    "idlist.append(286) # this one had incorrect path formatting in db\n",
    "idlist.append(294) # this one has filenames formatted differently"
   ]
  },
  {
   "cell_type": "code",
   "execution_count": 4,
   "metadata": {},
   "outputs": [],
   "source": [
    "import cv2\n",
    "from pathlib import Path, PureWindowsPath\n",
    "import os\n",
    "import re\n",
    "\n",
    "for idvideo in idlist:\n",
    "    framestart = df.FrameStart[idvideo]\n",
    "    left = df.BBLeft[idvideo]\n",
    "    top = df.BBTop[idvideo]\n",
    "    width = df.Width[idvideo]\n",
    "    height = df.Height[idvideo]\n",
    "\n",
    "    # db contains windows paths, convert to linux\n",
    "    path = df.FilePathRelative[idvideo]\n",
    "    path = PureWindowsPath(path)\n",
    "    path = str(Path(path))\n",
    "    # now find the frame with the right id, accounting for varying file names\n",
    "    filenames = os.listdir(path)\n",
    "    p = re.compile('.*' + '{:04d}'.format(framestart) + '\\..*')\n",
    "    selected_file = list(filter(p.search, filenames))\n",
    "    assert len(selected_file) is 1 # confirm there's no errors\n",
    "    path = os.path.join(path, selected_file[0])\n",
    "    \n",
    "\n",
    "    im = cv2.imread(path)\n",
    "    cv2.imwrite('bb_tests/{}_raw.jpg'.format(idvideo),im)\n",
    "    cv2.rectangle(im,(left,top),(left+width,top + height),(0,255,0),2)\n",
    "    cv2.imwrite('bb_tests/{}_bb.jpg'.format(idvideo),im)"
   ]
  },
  {
   "cell_type": "code",
   "execution_count": null,
   "metadata": {},
   "outputs": [],
   "source": []
  }
 ],
 "metadata": {
  "kernelspec": {
   "display_name": "Python [conda env:retail_analytics]",
   "language": "python",
   "name": "conda-env-retail_analytics-py"
  },
  "language_info": {
   "codemirror_mode": {
    "name": "ipython",
    "version": 3
   },
   "file_extension": ".py",
   "mimetype": "text/x-python",
   "name": "python",
   "nbconvert_exporter": "python",
   "pygments_lexer": "ipython3",
   "version": "3.7.5"
  }
 },
 "nbformat": 4,
 "nbformat_minor": 2
}
